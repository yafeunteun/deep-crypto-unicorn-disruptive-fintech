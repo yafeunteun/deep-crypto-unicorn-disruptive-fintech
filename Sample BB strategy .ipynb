{
 "cells": [
  {
   "cell_type": "code",
   "execution_count": null,
   "metadata": {},
   "outputs": [],
   "source": []
  },
  {
   "cell_type": "code",
   "execution_count": 1,
   "metadata": {},
   "outputs": [],
   "source": [
    "# This algorithm uses the talib Bollinger Bands function to determine entry \n",
    "# points for long and short positions.\n",
    "\n",
    "# When the price breaks out of the upper Bollinger band, a short position\n",
    "# is opened. A long position is opened when the price dips below the lower band.\n",
    "\n",
    "# Because this algorithm uses the history function, it will only run in minute mode. \n",
    "# We will constrain the trading to once per day at market open in this example.\n",
    "\n",
    "import talib\n",
    "import numpy as np\n",
    "import pandas as pd"
   ]
  },
  {
   "cell_type": "code",
   "execution_count": 2,
   "metadata": {
    "collapsed": true
   },
   "outputs": [],
   "source": [
    "# Setup our variables\n",
    "def initialize(context):\n",
    "    context.stock = symbol('SPY')\n",
    "    \n",
    "    # Create a variable to track the date change\n",
    "    context.date = None"
   ]
  },
  {
   "cell_type": "code",
   "execution_count": null,
   "metadata": {
    "collapsed": true
   },
   "outputs": [],
   "source": [
    "def handle_data(context, data):\n",
    "    todays_date = get_datetime().date()\n",
    "    \n",
    "    # Do nothing unless the date has changed\n",
    "    if todays_date == context.date:\n",
    "        return\n",
    "    # Set the new date\n",
    "    context.date = todays_date\n",
    "\n",
    "    current_position = context.portfolio.positions[context.stock].amount\n",
    "    price=data[context.stock].price\n",
    "    \n",
    "    # Load historical data for the stocks\n",
    "    prices = history(15, '1d', 'price')\n",
    "    \n",
    "    upper, middle, lower = talib.BBANDS(\n",
    "        prices[context.stock], \n",
    "        timeperiod=10,\n",
    "        # number of non-biased standard deviations from the mean\n",
    "        nbdevup=2,\n",
    "        nbdevdn=2,\n",
    "        # Moving average type: simple moving average here\n",
    "        matype=0)\n",
    "    \n",
    "    # If price is below the recent lower band and we have\n",
    "    # no long positions then invest the entire\n",
    "    # portfolio value into SPY\n",
    "    if price <= lower[-1] and current_position <= 0:\n",
    "        order_target_percent(context.stock, 1.0)\n",
    "    \n",
    "    # If price is above the recent upper band and we have\n",
    "    # no short positions then invest the entire\n",
    "    # portfolio value to short SPY\n",
    "    elif price >= upper[-1] and current_position >= 0:\n",
    "        order_target_percent(context.stock, -1.0)\n",
    "        \n",
    "    record(upper=upper[-1],\n",
    "           lower=lower[-1],\n",
    "           mean=middle[-1],\n",
    "           price=price,\n",
    "           position_size=current_position)"
   ]
  },
  {
   "cell_type": "code",
   "execution_count": null,
   "metadata": {
    "collapsed": true
   },
   "outputs": [],
   "source": []
  },
  {
   "cell_type": "code",
   "execution_count": null,
   "metadata": {
    "collapsed": true
   },
   "outputs": [],
   "source": [
    "\n",
    "\n",
    "\n"
   ]
  }
 ],
 "metadata": {
  "kernelspec": {
   "display_name": "Python 3",
   "language": "python",
   "name": "python3"
  },
  "language_info": {
   "codemirror_mode": {
    "name": "ipython",
    "version": 3
   },
   "file_extension": ".py",
   "mimetype": "text/x-python",
   "name": "python",
   "nbconvert_exporter": "python",
   "pygments_lexer": "ipython3",
   "version": "3.5.2"
  }
 },
 "nbformat": 4,
 "nbformat_minor": 2
}

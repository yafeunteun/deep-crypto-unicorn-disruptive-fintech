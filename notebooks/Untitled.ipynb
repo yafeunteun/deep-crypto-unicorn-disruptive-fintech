{
 "cells": [
  {
   "cell_type": "code",
   "execution_count": 17,
   "metadata": {
    "collapsed": false
   },
   "outputs": [],
   "source": [
    "import pandas as pd\n",
    "import matplotlib.pyplot as plt\n",
    "%matplotlib inline"
   ]
  },
  {
   "cell_type": "code",
   "execution_count": 15,
   "metadata": {
    "collapsed": false
   },
   "outputs": [
    {
     "data": {
      "text/html": [
       "<div>\n",
       "<table border=\"1\" class=\"dataframe\">\n",
       "  <thead>\n",
       "    <tr style=\"text-align: right;\">\n",
       "      <th></th>\n",
       "      <th>time</th>\n",
       "      <th>low</th>\n",
       "      <th>high</th>\n",
       "      <th>open</th>\n",
       "      <th>close</th>\n",
       "      <th>volume</th>\n",
       "    </tr>\n",
       "  </thead>\n",
       "  <tbody>\n",
       "    <tr>\n",
       "      <th>count</th>\n",
       "      <td>2.160000e+05</td>\n",
       "      <td>216000.000000</td>\n",
       "      <td>216000.000000</td>\n",
       "      <td>216000.000000</td>\n",
       "      <td>216000.000000</td>\n",
       "      <td>2.160000e+05</td>\n",
       "    </tr>\n",
       "    <tr>\n",
       "      <th>mean</th>\n",
       "      <td>1.489709e+09</td>\n",
       "      <td>1242.486919</td>\n",
       "      <td>1243.670828</td>\n",
       "      <td>1243.185709</td>\n",
       "      <td>1243.190018</td>\n",
       "      <td>7.044499e+00</td>\n",
       "    </tr>\n",
       "    <tr>\n",
       "      <th>std</th>\n",
       "      <td>3.741238e+06</td>\n",
       "      <td>374.794361</td>\n",
       "      <td>375.570507</td>\n",
       "      <td>375.222315</td>\n",
       "      <td>375.222034</td>\n",
       "      <td>1.443856e+01</td>\n",
       "    </tr>\n",
       "    <tr>\n",
       "      <th>min</th>\n",
       "      <td>1.483229e+09</td>\n",
       "      <td>0.060000</td>\n",
       "      <td>0.060000</td>\n",
       "      <td>0.060000</td>\n",
       "      <td>0.060000</td>\n",
       "      <td>8.000000e-08</td>\n",
       "    </tr>\n",
       "    <tr>\n",
       "      <th>25%</th>\n",
       "      <td>1.486469e+09</td>\n",
       "      <td>1009.000000</td>\n",
       "      <td>1009.650000</td>\n",
       "      <td>1009.378856</td>\n",
       "      <td>1009.330000</td>\n",
       "      <td>1.055055e+00</td>\n",
       "    </tr>\n",
       "    <tr>\n",
       "      <th>50%</th>\n",
       "      <td>1.489709e+09</td>\n",
       "      <td>1157.020000</td>\n",
       "      <td>1159.000000</td>\n",
       "      <td>1158.885000</td>\n",
       "      <td>1158.930000</td>\n",
       "      <td>3.133213e+00</td>\n",
       "    </tr>\n",
       "    <tr>\n",
       "      <th>75%</th>\n",
       "      <td>1.492949e+09</td>\n",
       "      <td>1279.330000</td>\n",
       "      <td>1280.000000</td>\n",
       "      <td>1279.782500</td>\n",
       "      <td>1279.912500</td>\n",
       "      <td>7.962289e+00</td>\n",
       "    </tr>\n",
       "    <tr>\n",
       "      <th>max</th>\n",
       "      <td>1.496189e+09</td>\n",
       "      <td>2799.940000</td>\n",
       "      <td>2806.000000</td>\n",
       "      <td>2805.990000</td>\n",
       "      <td>2805.990000</td>\n",
       "      <td>1.086130e+03</td>\n",
       "    </tr>\n",
       "  </tbody>\n",
       "</table>\n",
       "</div>"
      ],
      "text/plain": [
       "               time            low           high           open  \\\n",
       "count  2.160000e+05  216000.000000  216000.000000  216000.000000   \n",
       "mean   1.489709e+09    1242.486919    1243.670828    1243.185709   \n",
       "std    3.741238e+06     374.794361     375.570507     375.222315   \n",
       "min    1.483229e+09       0.060000       0.060000       0.060000   \n",
       "25%    1.486469e+09    1009.000000    1009.650000    1009.378856   \n",
       "50%    1.489709e+09    1157.020000    1159.000000    1158.885000   \n",
       "75%    1.492949e+09    1279.330000    1280.000000    1279.782500   \n",
       "max    1.496189e+09    2799.940000    2806.000000    2805.990000   \n",
       "\n",
       "               close        volume  \n",
       "count  216000.000000  2.160000e+05  \n",
       "mean     1243.190018  7.044499e+00  \n",
       "std       375.222034  1.443856e+01  \n",
       "min         0.060000  8.000000e-08  \n",
       "25%      1009.330000  1.055055e+00  \n",
       "50%      1158.930000  3.133213e+00  \n",
       "75%      1279.912500  7.962289e+00  \n",
       "max      2805.990000  1.086130e+03  "
      ]
     },
     "execution_count": 15,
     "metadata": {},
     "output_type": "execute_result"
    }
   ],
   "source": [
    "df = pd.read_csv('datasets/resampled/rates_2017_january_may_1min.csv')\n",
    "df.describe()"
   ]
  },
  {
   "cell_type": "code",
   "execution_count": 18,
   "metadata": {
    "collapsed": false
   },
   "outputs": [
    {
     "data": {
      "text/plain": [
       "[<matplotlib.lines.Line2D at 0x112c20610>]"
      ]
     },
     "execution_count": 18,
     "metadata": {},
     "output_type": "execute_result"
    },
    {
     "data": {
      "image/png": "[encoded data removed]",
      "text/plain": [
       "<matplotlib.figure.Figure at 0x11274ad90>"
      ]
     },
     "metadata": {},
     "output_type": "display_data"
    }
   ],
   "source": [
    "plt.plot(df['close'])"
   ]
  },
  {
   "cell_type": "code",
   "execution_count": null,
   "metadata": {
    "collapsed": true
   },
   "outputs": [],
   "source": []
  }
 ],
 "metadata": {
  "kernelspec": {
   "display_name": "Python 2",
   "language": "python",
   "name": "python2"
  },
  "language_info": {
   "codemirror_mode": {
    "name": "ipython",
    "version": 2
   },
   "file_extension": ".py",
   "mimetype": "text/x-python",
   "name": "python",
   "nbconvert_exporter": "python",
   "pygments_lexer": "ipython2",
   "version": "2.7.13"
  }
 },
 "nbformat": 4,
 "nbformat_minor": 1
}

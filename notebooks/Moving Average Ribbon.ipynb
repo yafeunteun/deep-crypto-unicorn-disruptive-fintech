{
 "cells": [
  {
   "cell_type": "code",
   "execution_count": null,
   "metadata": {
    "collapsed": true
   },
   "outputs": [],
   "source": []
  },
  {
   "cell_type": "code",
   "execution_count": 1,
   "metadata": {
    "collapsed": true
   },
   "outputs": [],
   "source": [
    "import pandas as pd\n",
    "import matplotlib.pyplot as plt\n",
    "%matplotlib inline\n",
    "import numpy as np"
   ]
  },
  {
   "cell_type": "markdown",
   "metadata": {},
   "source": [
    "## Technical Indicators"
   ]
  },
  {
   "cell_type": "code",
   "execution_count": 249,
   "metadata": {
    "collapsed": true
   },
   "outputs": [],
   "source": [
    "data = pd.read_csv(\"../datasets/rates_2017_may_60min.csv\")\n",
    "#data = data[-300:-150]"
   ]
  },
  {
   "cell_type": "code",
   "execution_count": 250,
   "metadata": {},
   "outputs": [
    {
     "data": {
      "text/plain": [
       "<matplotlib.text.Text at 0x7f1a0838ef90>"
      ]
     },
     "execution_count": 250,
     "metadata": {},
     "output_type": "execute_result"
    },
    {
     "data": {
      "image/png": "[encoded data removed]",
      "text/plain": [
       "<matplotlib.figure.Figure at 0x7f1a093bcfd0>"
      ]
     },
     "metadata": {},
     "output_type": "display_data"
    }
   ],
   "source": [
    "data.plot(style='b',\n",
    "          figsize=(8,5),\n",
    "          x='time', \n",
    "          y='close', \n",
    "          title='Close price BTC/USD from january to may at 1 min',\n",
    "         )\n",
    "plt.xlabel('date')\n",
    "plt.ylabel('value')"
   ]
  },
  {
   "cell_type": "code",
   "execution_count": 251,
   "metadata": {
    "collapsed": true
   },
   "outputs": [],
   "source": [
    "## Changing default index to timestamps\n",
    "data.index = data['time']\n",
    "#data = data.drop('time', axis=1)"
   ]
  },
  {
   "cell_type": "code",
   "execution_count": 252,
   "metadata": {},
   "outputs": [
    {
     "data": {
      "text/html": [
       "<div>\n",
       "<style>\n",
       "    .dataframe thead tr:only-child th {\n",
       "        text-align: right;\n",
       "    }\n",
       "\n",
       "    .dataframe thead th {\n",
       "        text-align: left;\n",
       "    }\n",
       "\n",
       "    .dataframe tbody tr th {\n",
       "        vertical-align: top;\n",
       "    }\n",
       "</style>\n",
       "<table border=\"1\" class=\"dataframe\">\n",
       "  <thead>\n",
       "    <tr style=\"text-align: right;\">\n",
       "      <th></th>\n",
       "      <th>time</th>\n",
       "      <th>low</th>\n",
       "      <th>high</th>\n",
       "      <th>open</th>\n",
       "      <th>close</th>\n",
       "      <th>volume</th>\n",
       "    </tr>\n",
       "    <tr>\n",
       "      <th>time</th>\n",
       "      <th></th>\n",
       "      <th></th>\n",
       "      <th></th>\n",
       "      <th></th>\n",
       "      <th></th>\n",
       "      <th></th>\n",
       "    </tr>\n",
       "  </thead>\n",
       "  <tbody>\n",
       "    <tr>\n",
       "      <th>1493596800</th>\n",
       "      <td>1493596800</td>\n",
       "      <td>1370.98</td>\n",
       "      <td>1397.90</td>\n",
       "      <td>1384.55</td>\n",
       "      <td>1382.96</td>\n",
       "      <td>1071.650212</td>\n",
       "    </tr>\n",
       "    <tr>\n",
       "      <th>1493600400</th>\n",
       "      <td>1493600400</td>\n",
       "      <td>1382.72</td>\n",
       "      <td>1396.00</td>\n",
       "      <td>1382.95</td>\n",
       "      <td>1389.10</td>\n",
       "      <td>638.953405</td>\n",
       "    </tr>\n",
       "    <tr>\n",
       "      <th>1493604000</th>\n",
       "      <td>1493604000</td>\n",
       "      <td>1387.63</td>\n",
       "      <td>1399.99</td>\n",
       "      <td>1389.10</td>\n",
       "      <td>1399.99</td>\n",
       "      <td>620.085948</td>\n",
       "    </tr>\n",
       "    <tr>\n",
       "      <th>1493607600</th>\n",
       "      <td>1493607600</td>\n",
       "      <td>1398.02</td>\n",
       "      <td>1427.34</td>\n",
       "      <td>1399.53</td>\n",
       "      <td>1421.42</td>\n",
       "      <td>958.529396</td>\n",
       "    </tr>\n",
       "    <tr>\n",
       "      <th>1493611200</th>\n",
       "      <td>1493611200</td>\n",
       "      <td>1410.00</td>\n",
       "      <td>1424.17</td>\n",
       "      <td>1421.44</td>\n",
       "      <td>1420.36</td>\n",
       "      <td>586.752607</td>\n",
       "    </tr>\n",
       "  </tbody>\n",
       "</table>\n",
       "</div>"
      ],
      "text/plain": [
       "                  time      low     high     open    close       volume\n",
       "time                                                                   \n",
       "1493596800  1493596800  1370.98  1397.90  1384.55  1382.96  1071.650212\n",
       "1493600400  1493600400  1382.72  1396.00  1382.95  1389.10   638.953405\n",
       "1493604000  1493604000  1387.63  1399.99  1389.10  1399.99   620.085948\n",
       "1493607600  1493607600  1398.02  1427.34  1399.53  1421.42   958.529396\n",
       "1493611200  1493611200  1410.00  1424.17  1421.44  1420.36   586.752607"
      ]
     },
     "execution_count": 252,
     "metadata": {},
     "output_type": "execute_result"
    }
   ],
   "source": [
    "data.head()"
   ]
  },
  {
   "cell_type": "code",
   "execution_count": 253,
   "metadata": {},
   "outputs": [
    {
     "name": "stdout",
     "output_type": "stream",
     "text": [
      "[5, 10, 15, 20, 25, 30, 35, 40]\n"
     ]
    }
   ],
   "source": [
    "start=5\n",
    "stop=45\n",
    "step=5\n",
    "print range(start, stop, step)"
   ]
  },
  {
   "cell_type": "code",
   "execution_count": 254,
   "metadata": {},
   "outputs": [],
   "source": [
    "for span in range(start, stop, step):\n",
    "    data['ema{}'.format(span)] = data['close'].ewm(span=span).mean()"
   ]
  },
  {
   "cell_type": "code",
   "execution_count": 272,
   "metadata": {
    "scrolled": true
   },
   "outputs": [
    {
     "name": "stdout",
     "output_type": "stream",
     "text": [
      "Buy signal generated at 1493600400 when price was 1389.1\n",
      "Sell signal generated at 1494619200 when price was 1684.31\n",
      "Buy signal generated at 1494738000 when price was 1800.38\n",
      "Sell signal generated at 1494856800 when price was 1730.99\n",
      "Buy signal generated at 1494982800 when price was 1757.15\n",
      "Sell signal generated at 1495828800 when price was 2316.71\n",
      "Buy signal generated at 1496084400 when price was 2335.92\n",
      "Sell signal generated at 1496185200 when price was 2191.58\n",
      "Buy signal generated at 1496257200 when price was 2294.98\n",
      "==== DONE ====\n"
     ]
    }
   ],
   "source": [
    "with open('mar_out.csv', 'w') as f:\n",
    "    f.write('time,action\\n')\n",
    "        \n",
    "\n",
    "    long=False\n",
    "    ema_labels = ['ema{}'.format(span) for span in range(start, stop, step)]\n",
    "    crossover_flags = [0 for _ in ema_labels[:-1]] # Ignore the last since it obviously crosses with itself anytime\n",
    "    buy_idx = []; sell_idx = [] # for plotting \n",
    "\n",
    "    \n",
    "    for i in range(len(data)):\n",
    "        if long and sum(crossover_flags) == 0:\n",
    "            long=False\n",
    "            print 'Sell signal generated at {} when price was {}'.format(int(data.iloc[i].time), data.iloc[i].close)\n",
    "            f.write('{},{}\\n'.format(int(data.iloc[i].time), \"SELL\"))\n",
    "            sell_idx.append(int(data.iloc[i].time))\n",
    "        elif not long and sum(crossover_flags) == len(crossover_flags):\n",
    "            long=True\n",
    "            print 'Buy signal generated at {} when price was {}'.format(int(data.iloc[i].time), data.iloc[i].close)\n",
    "            f.write('{},{}\\n'.format(int(data.iloc[i].time), \"BUY\"))\n",
    "            buy_idx.append(int(data.iloc[i].time))\n",
    "        for j in range(len(ema_labels[:-1])): \n",
    "            if data.iloc[i][ema_labels[j]] - data.iloc[i][ema_labels[-1]] >= 0:\n",
    "                crossover_flags[j] = 1\n",
    "            else:\n",
    "                crossover_flags[j] = 0\n",
    "print '==== DONE ===='\n",
    "f.close()"
   ]
  },
  {
   "cell_type": "code",
   "execution_count": 256,
   "metadata": {
    "collapsed": true
   },
   "outputs": [],
   "source": [
    "%matplotlib inline"
   ]
  },
  {
   "cell_type": "code",
   "execution_count": 273,
   "metadata": {},
   "outputs": [
    {
     "data": {
      "image/png": "[encoded data removed]",
      "text/plain": [
       "<matplotlib.figure.Figure at 0x7f1a0930e710>"
      ]
     },
     "metadata": {},
     "output_type": "display_data"
    }
   ],
   "source": [
    "plt.plot(data.close)\n",
    "plt.plot(data[ema_labels])\n",
    "for i in buy_idx:\n",
    "    plt.axvline(x=i, ymin=0, ymax = 2800, linewidth=2, color='b')\n",
    "for j in sell_idx:\n",
    "    plt.axvline(x=j, ymin=0, ymax = 2800, linewidth=2, color='r')"
   ]
  },
  {
   "cell_type": "code",
   "execution_count": null,
   "metadata": {
    "collapsed": true
   },
   "outputs": [],
   "source": []
  }
 ],
 "metadata": {
  "kernelspec": {
   "display_name": "Python 2",
   "language": "python",
   "name": "python2"
  },
  "language_info": {
   "codemirror_mode": {
    "name": "ipython",
    "version": 2
   },
   "file_extension": ".py",
   "mimetype": "text/x-python",
   "name": "python",
   "nbconvert_exporter": "python",
   "pygments_lexer": "ipython2",
   "version": "2.7.13"
  }
 },
 "nbformat": 4,
 "nbformat_minor": 2
}
